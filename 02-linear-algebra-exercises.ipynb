{
 "cells": [
  {
   "cell_type": "markdown",
   "metadata": {},
   "source": [
    "# Linear Algebra Exercises"
   ]
  },
  {
   "cell_type": "code",
   "execution_count": 2,
   "metadata": {},
   "outputs": [
    {
     "data": {
      "text/plain": [
       "'1.13.2'"
      ]
     },
     "execution_count": 2,
     "metadata": {},
     "output_type": "execute_result"
    }
   ],
   "source": [
    "from sympy import *\n",
    "import sympy\n",
    "\n",
    "sympy.__version__"
   ]
  },
  {
   "cell_type": "markdown",
   "metadata": {},
   "source": [
    "1. We consider $\\displaystyle (\\mathbb{R} \\backslash \\{-1\\} ,\\star )$, where\n",
    "\\begin{equation*}\n",
    "a\\star b\\coloneq ab+a+b:a,b\\in \\mathbb{R} \\backslash \\{-1\\}\n",
    "\\end{equation*}"
   ]
  },
  {
   "cell_type": "code",
   "execution_count": 3,
   "metadata": {},
   "outputs": [],
   "source": [
    "a, b = symbols(\"a b\", real=True)\n",
    "star = Lambda((a, b), a * b + a + b)"
   ]
  },
  {
   "cell_type": "markdown",
   "metadata": {},
   "source": [
    "Check if $\\displaystyle (\\star )$ is closed under $\\displaystyle (\\mathbb{R} \\backslash \\{-1\\})$:\n",
    "\n",
    "\\begin{equation*}\n",
    "\\begin{aligned}\n",
    "ab+a+b\\  & =\\ -1\\\\\n",
    "ab+b\\  & =\\ -1-a\\rightarrow -( a+1)\\\\\n",
    "b( a+1) & =-( a+1)\\\\\n",
    "b( a+1) +( a+1) & =0\\\\\n",
    "( b+1)( a+1) & =0\n",
    "\\end{aligned}\n",
    "\\end{equation*}\n",
    "\n",
    "Either $\\displaystyle a$, $\\displaystyle b$ would have to be $\\displaystyle -1$ for $\\displaystyle a\\star b$ to be $\\displaystyle -1$, but since $\\displaystyle a,b\\neq-1$, closure holds, and the equation has no solution. Verification below:"
   ]
  },
  {
   "cell_type": "code",
   "execution_count": 4,
   "metadata": {},
   "outputs": [
    {
     "data": {
      "text/plain": [
       "[]"
      ]
     },
     "execution_count": 4,
     "metadata": {},
     "output_type": "execute_result"
    }
   ],
   "source": [
    "solve([star(a, b) == -1, a != -1, b != -1], [a, b])"
   ]
  },
  {
   "cell_type": "markdown",
   "metadata": {},
   "source": [
    "#### Associativity:\n",
    "We need to prove that $\\displaystyle ( a\\star b) \\star c=a\\star ( b\\star c)$.\n",
    "\\begin{equation*}\n",
    "\\begin{aligned}\n",
    "( a\\star b) \\star c & \\overset{?}{=} a\\star ( b\\star c)\\\\\n",
    "( ab+a+b) \\star c & \\overset{?}{=} a\\star ( bc+b+c)\\\\\n",
    "( ab+a+b)( c) +( ab+a+b) +c & \\overset{?}{=} a( bc+b+c) +a+( bc+b+c)\\\\\n",
    "abc+ac+bc+ab+a+b+c & \\overset{\\checkmark}{=} abc+ab+ac+a+bc+b+c\n",
    "\\end{aligned}\n",
    "\\end{equation*}\n",
    "\n",
    "Verification:"
   ]
  },
  {
   "cell_type": "code",
   "execution_count": 5,
   "metadata": {},
   "outputs": [
    {
     "data": {
      "text/latex": [
       "$\\displaystyle a b c + a b + a c + a + b c + b + c$"
      ],
      "text/plain": [
       "a*b*c + a*b + a*c + a + b*c + b + c"
      ]
     },
     "metadata": {},
     "output_type": "display_data"
    },
    {
     "data": {
      "text/latex": [
       "$\\displaystyle a b c + a b + a c + a + b c + b + c$"
      ],
      "text/plain": [
       "a*b*c + a*b + a*c + a + b*c + b + c"
      ]
     },
     "metadata": {},
     "output_type": "display_data"
    },
    {
     "data": {
      "text/plain": [
       "True"
      ]
     },
     "execution_count": 5,
     "metadata": {},
     "output_type": "execute_result"
    }
   ],
   "source": [
    "c = symbols(\"c\", real=True)\n",
    "left = expand(star(star(a, b), c))\n",
    "right = expand(star(a, star(b, c)))\n",
    "display(left)\n",
    "display(right)\n",
    "left == right"
   ]
  },
  {
   "cell_type": "markdown",
   "metadata": {},
   "source": [
    "#### Neutral element:\n",
    "We need to solve $\\displaystyle a\\star e=a$.\n",
    "\\begin{equation*}\n",
    "\\begin{aligned}\n",
    "a\\star e & =a\\\\\n",
    "ae+a+e & =a\\\\\n",
    "ae+e & =0\\\\\n",
    "e( a+1) & =0\\\\\n",
    "e=0, & \\ a=-1\n",
    "\\end{aligned}\n",
    "\\end{equation*}\n",
    "But since $\\displaystyle a\\notin \\mathbb{R} \\backslash \\{-1\\}$, it can't be the neutral element.\n",
    "The neutral element $\\displaystyle e$ for $\\displaystyle (\\mathbb{R} \\backslash \\{-1\\} ,\\star )$ is $\\displaystyle 0$.\n",
    "\\begin{gather*}\n",
    "1\\star 0\\\\\n",
    "( 1\\times 0) +1+0\\\\\n",
    "0+1+0\\\\\n",
    "1\n",
    "\\end{gather*}"
   ]
  },
  {
   "cell_type": "code",
   "execution_count": 12,
   "metadata": {},
   "outputs": [
    {
     "data": {
      "text/latex": [
       "$\\displaystyle a e + a + e = a$"
      ],
      "text/plain": [
       "Eq(a*e + a + e, a)"
      ]
     },
     "metadata": {},
     "output_type": "display_data"
    },
    {
     "data": {
      "text/plain": [
       "{e: 0}"
      ]
     },
     "execution_count": 12,
     "metadata": {},
     "output_type": "execute_result"
    }
   ],
   "source": [
    "e = symbols(\"e\", real=True)\n",
    "equation = Eq(star(a, e), a)\n",
    "display(equation)\n",
    "solve([equation, a != -1, e != -1], e)"
   ]
  },
  {
   "cell_type": "code",
   "execution_count": 14,
   "metadata": {},
   "outputs": [
    {
     "data": {
      "text/latex": [
       "$\\displaystyle 4 x^{2} + 8 x + 3 = 15$"
      ],
      "text/plain": [
       "Eq(4*x**2 + 8*x + 3, 15)"
      ]
     },
     "metadata": {},
     "output_type": "display_data"
    },
    {
     "data": {
      "text/latex": [
       "$\\displaystyle \\left(2 x + 1\\right) \\left(2 x + 3\\right) = 15$"
      ],
      "text/plain": [
       "Eq((2*x + 1)*(2*x + 3), 15)"
      ]
     },
     "execution_count": 14,
     "metadata": {},
     "output_type": "execute_result"
    }
   ],
   "source": [
    "x = symbols('x', real=True)\n",
    "equation = Eq(star(3, star(x, x)), 15)\n",
    "display(equation)\n",
    "solve(equation, x)"
   ]
  }
 ],
 "metadata": {
  "kernelspec": {
   "display_name": "base",
   "language": "python",
   "name": "python3"
  },
  "language_info": {
   "codemirror_mode": {
    "name": "ipython",
    "version": 3
   },
   "file_extension": ".py",
   "mimetype": "text/x-python",
   "name": "python",
   "nbconvert_exporter": "python",
   "pygments_lexer": "ipython3",
   "version": "3.12.7"
  }
 },
 "nbformat": 4,
 "nbformat_minor": 2
}
