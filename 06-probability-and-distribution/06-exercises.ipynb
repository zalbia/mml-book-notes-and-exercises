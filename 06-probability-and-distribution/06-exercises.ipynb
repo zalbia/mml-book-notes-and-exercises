{
 "cells": [
  {
   "cell_type": "markdown",
   "metadata": {},
   "source": [
    "# Exercises | Probability and Distribution\n",
    "\n",
    "6.1 Consider the following bivariate distribution $\\displaystyle p(x,y) $ of two\n",
    "discrete random variables $\\displaystyle X$ and $\\displaystyle Y$."
   ]
  },
  {
   "cell_type": "code",
   "execution_count": 13,
   "metadata": {},
   "outputs": [],
   "source": [
    "p_xy_table = [\n",
    "    [0.01, 0.02, 0.03, 0.1, 0.1],\n",
    "    [0.05, 0.1, 0.05, 0.07, 0.2],\n",
    "    [0.1, 0.05, 0.03, 0.05, 0.04],\n",
    "]"
   ]
  },
  {
   "cell_type": "markdown",
   "metadata": {},
   "source": [
    "Compute:\n",
    "\n",
    "a. The marginal distributions $\\displaystyle p(x)$ and $\\displaystyle p(y)$."
   ]
  },
  {
   "cell_type": "code",
   "execution_count": 15,
   "metadata": {},
   "outputs": [
    {
     "data": {
      "text/plain": [
       "(array([[0.26],\n",
       "        [0.47],\n",
       "        [0.27]]),\n",
       " array([[0.16, 0.17, 0.11, 0.22, 0.34]]))"
      ]
     },
     "execution_count": 15,
     "metadata": {},
     "output_type": "execute_result"
    }
   ],
   "source": [
    "import numpy as np\n",
    "from scipy.stats.contingency import margins\n",
    "\n",
    "p_xy = np.array(p_xy_table)\n",
    "p_y, p_x = margins(p_xy)\n",
    "p_y, p_x"
   ]
  },
  {
   "cell_type": "markdown",
   "metadata": {},
   "source": [
    "b. The conditional distributions $\\displaystyle p( x|Y=y_{1})$ and $\\displaystyle p( y|X=x_{3})$."
   ]
  },
  {
   "cell_type": "code",
   "execution_count": 32,
   "metadata": {},
   "outputs": [
    {
     "data": {
      "text/plain": [
       "([0.038461538461538464,\n",
       "  0.07692307692307693,\n",
       "  0.11538461538461538,\n",
       "  0.38461538461538464,\n",
       "  0.38461538461538464],\n",
       " [0.2727272727272727, 0.4545454545454546, 0.2727272727272727])"
      ]
     },
     "execution_count": 32,
     "metadata": {},
     "output_type": "execute_result"
    }
   ],
   "source": [
    "j = 0  # j = 1\n",
    "r_j = sum(p_xy[j])\n",
    "p_x_Y_y1 = [p_xy[j][i] / r_j for i in range(5)]\n",
    "\n",
    "i = 2  # i = 3\n",
    "c_i = sum([y[i] for y in p_xy])\n",
    "p_y_X_x3 = [p_xy[j][i] / c_i for j in range(3)]\n",
    "\n",
    "p_x_Y_y1, p_y_X_x3"
   ]
  }
 ],
 "metadata": {
  "kernelspec": {
   "display_name": "base",
   "language": "python",
   "name": "python3"
  },
  "language_info": {
   "codemirror_mode": {
    "name": "ipython",
    "version": 3
   },
   "file_extension": ".py",
   "mimetype": "text/x-python",
   "name": "python",
   "nbconvert_exporter": "python",
   "pygments_lexer": "ipython3",
   "version": "3.12.7"
  }
 },
 "nbformat": 4,
 "nbformat_minor": 2
}
