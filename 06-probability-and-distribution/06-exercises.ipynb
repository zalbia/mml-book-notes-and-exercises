{
 "cells": [
  {
   "cell_type": "markdown",
   "metadata": {},
   "source": [
    "# Exercises | Probability and Distribution\n",
    "\n",
    "6.1 Consider the following bivariate distribution $\\displaystyle p(x,y) $ of two\n",
    "discrete random variables $\\displaystyle X$ and $\\displaystyle Y$."
   ]
  },
  {
   "cell_type": "code",
   "execution_count": 67,
   "metadata": {},
   "outputs": [],
   "source": [
    "p_xy_table = [\n",
    "    [0.01, 0.02, 0.03, 0.1, 0.1],\n",
    "    [0.05, 0.1, 0.05, 0.07, 0.2],\n",
    "    [0.1, 0.05, 0.03, 0.05, 0.04],\n",
    "]"
   ]
  },
  {
   "cell_type": "markdown",
   "metadata": {},
   "source": [
    "Compute:\n",
    "\n",
    "a. The marginal distributions $\\displaystyle p(x)$ and $\\displaystyle p(y)$."
   ]
  },
  {
   "cell_type": "code",
   "execution_count": 68,
   "metadata": {},
   "outputs": [
    {
     "data": {
      "text/plain": [
       "(array([[0.26],\n",
       "        [0.47],\n",
       "        [0.27]]),\n",
       " array([[0.16, 0.17, 0.11, 0.22, 0.34]]))"
      ]
     },
     "execution_count": 68,
     "metadata": {},
     "output_type": "execute_result"
    }
   ],
   "source": [
    "import numpy as np\n",
    "from scipy.stats.contingency import margins\n",
    "\n",
    "p_xy = np.array(p_xy_table)\n",
    "p_y, p_x = margins(p_xy)\n",
    "p_y, p_x"
   ]
  },
  {
   "cell_type": "markdown",
   "metadata": {},
   "source": [
    "b. The conditional distributions $\\displaystyle p( x|Y=y_{1})$ and $\\displaystyle p( y|X=x_{3})$."
   ]
  },
  {
   "cell_type": "code",
   "execution_count": 69,
   "metadata": {},
   "outputs": [
    {
     "data": {
      "text/plain": [
       "([0.038461538461538464,\n",
       "  0.07692307692307693,\n",
       "  0.11538461538461538,\n",
       "  0.38461538461538464,\n",
       "  0.38461538461538464],\n",
       " [0.2727272727272727, 0.4545454545454546, 0.2727272727272727])"
      ]
     },
     "execution_count": 69,
     "metadata": {},
     "output_type": "execute_result"
    }
   ],
   "source": [
    "j = 0  # j = 1\n",
    "r_j = sum(p_xy[j])\n",
    "px_Y_y1 = [p_xy[j][i] / r_j for i in range(5)]\n",
    "\n",
    "i = 2  # i = 3\n",
    "c_i = sum([y[i] for y in p_xy])\n",
    "py_X_x3 = [p_xy[j][i] / c_i for j in range(3)]\n",
    "\n",
    "px_Y_y1, py_X_x3"
   ]
  },
  {
   "cell_type": "markdown",
   "metadata": {},
   "source": [
    "6.2 Consider a mixture of two Gaussian distributions,\n",
    "\n",
    "\\begin{equation*}\n",
    "p( x) =0.4\\mathcal{N}\\left(\\boldsymbol{x}\\middle| \\begin{bmatrix}\n",
    "10\\\\\n",
    "2\n",
    "\\end{bmatrix} ,\\begin{bmatrix}\n",
    "1 & 0\\\\\n",
    "0 & 1\n",
    "\\end{bmatrix}\\right) +0.6\\mathcal{N}\\left(\\boldsymbol{x}\\middle| \\begin{bmatrix}\n",
    "0\\\\\n",
    "0\n",
    "\\end{bmatrix} ,\\begin{bmatrix}\n",
    "8.4 & 2.0\\\\\n",
    "2.0 & 1.7\n",
    "\\end{bmatrix}\\right)\n",
    "\\end{equation*}\n",
    "\n",
    "a. Compute the marginal distributions for each dimension.\n",
    "\n",
    "\\begin{aligned}\n",
    "p(\\boldsymbol{x}_{1}) & =( 0.4)\\mathcal{N}( 10 | 1) +( 0.6)\\mathcal{N}( 0|8.4)\\\\\n",
    "p(\\boldsymbol{x}_{2}) & =( 0.4)\\mathcal{N}( 2 | 1) +( 0.6)\\mathcal{N}( 0|1.7)\n",
    "\\end{aligned}"
   ]
  },
  {
   "cell_type": "code",
   "execution_count": 70,
   "metadata": {},
   "outputs": [
    {
     "data": {
      "text/latex": [
       "$\\displaystyle 0.4 X_{1} + 0.600000000000002 X_{2}$"
      ],
      "text/plain": [
       "0.4*X_1 + 0.600000000000002*X_2"
      ]
     },
     "metadata": {},
     "output_type": "display_data"
    },
    {
     "ename": "AttributeError",
     "evalue": "'Add' object has no attribute 'pspace'",
     "output_type": "error",
     "traceback": [
      "\u001b[0;31m---------------------------------------------------------------------------\u001b[0m",
      "\u001b[0;31mAttributeError\u001b[0m                            Traceback (most recent call last)",
      "Cell \u001b[0;32mIn[70], line 8\u001b[0m\n\u001b[1;32m      6\u001b[0m mixture \u001b[38;5;241m=\u001b[39m X1 \u001b[38;5;241m+\u001b[39m X2\n\u001b[1;32m      7\u001b[0m display(mixture)\n\u001b[0;32m----> 8\u001b[0m marginal_distribution(mixture, N1[\u001b[38;5;241m0\u001b[39m])\n",
      "File \u001b[0;32m/opt/anaconda3/lib/python3.12/site-packages/sympy/stats/joint_rv_types.py:79\u001b[0m, in \u001b[0;36mmarginal_distribution\u001b[0;34m(rv, *indices)\u001b[0m\n\u001b[1;32m     77\u001b[0m     \u001b[38;5;28;01mif\u001b[39;00m \u001b[38;5;28misinstance\u001b[39m(indices[i], Indexed):\n\u001b[1;32m     78\u001b[0m         indices[i] \u001b[38;5;241m=\u001b[39m indices[i]\u001b[38;5;241m.\u001b[39margs[\u001b[38;5;241m1\u001b[39m]\n\u001b[0;32m---> 79\u001b[0m prob_space \u001b[38;5;241m=\u001b[39m rv\u001b[38;5;241m.\u001b[39mpspace\n\u001b[1;32m     80\u001b[0m \u001b[38;5;28;01mif\u001b[39;00m \u001b[38;5;129;01mnot\u001b[39;00m indices:\n\u001b[1;32m     81\u001b[0m     \u001b[38;5;28;01mraise\u001b[39;00m \u001b[38;5;167;01mValueError\u001b[39;00m(\n\u001b[1;32m     82\u001b[0m         \u001b[38;5;124m\"\u001b[39m\u001b[38;5;124mAt least one component for marginal density is needed.\u001b[39m\u001b[38;5;124m\"\u001b[39m)\n",
      "\u001b[0;31mAttributeError\u001b[0m: 'Add' object has no attribute 'pspace'"
     ]
    }
   ],
   "source": [
    "from sympy.stats import MultivariateNormal, marginal_distribution\n",
    "\n",
    "N1 = MultivariateNormal(\"X_1\", [10, 2], [[1, 0], [0, 1]])\n",
    "X1 = N1 / 2.5\n",
    "X2 = MultivariateNormal(\"X_2\", [0, 0], [[8.4, 2.0], [2.0, 1.7]]) / 1.66666666666666\n",
    "mixture = X1 + X2\n",
    "display(mixture)\n",
    "marginal_distribution(mixture, N1[0])"
   ]
  },
  {
   "cell_type": "markdown",
   "metadata": {},
   "source": [
    "b. Compute the mean, mode, and median for each marginal distribution.\n",
    "\n",
    "c. Compute the mean and mode for the two-dimensional distribution."
   ]
  }
 ],
 "metadata": {
  "kernelspec": {
   "display_name": "base",
   "language": "python",
   "name": "python3"
  },
  "language_info": {
   "codemirror_mode": {
    "name": "ipython",
    "version": 3
   },
   "file_extension": ".py",
   "mimetype": "text/x-python",
   "name": "python",
   "nbconvert_exporter": "python",
   "pygments_lexer": "ipython3",
   "version": "3.12.7"
  }
 },
 "nbformat": 4,
 "nbformat_minor": 2
}
