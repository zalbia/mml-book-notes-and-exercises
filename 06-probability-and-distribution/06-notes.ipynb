{
 "cells": [
  {
   "cell_type": "markdown",
   "metadata": {},
   "source": [
    "# Notes on Probability and Distribution\n",
    "\n",
    "## Example 6.1 Biased Coin Flip"
   ]
  },
  {
   "cell_type": "code",
   "execution_count": 182,
   "metadata": {},
   "outputs": [
    {
     "data": {
      "text/plain": [
       "(0.0900000000000000, 0.420000000000000, 0.490000000000000)"
      ]
     },
     "execution_count": 182,
     "metadata": {},
     "output_type": "execute_result"
    }
   ],
   "source": [
    "from sympy import Eq\n",
    "from sympy.stats import FiniteRV, P\n",
    "\n",
    "# Step 1: Define the sample space with each outcome's probability\n",
    "sample_space = {\n",
    "    (\"Dollar\", \"Dollar\"): 0.3 * 0.3,\n",
    "    (\"Dollar\", \"Pound\"): 0.3 * 0.7,\n",
    "    (\"Pound\", \"Dollar\"): 0.7 * 0.3,\n",
    "    (\"Pound\", \"Pound\"): 0.7 * 0.7,\n",
    "}\n",
    "\n",
    "# Step 2: Define the inverse mapping for X (counting \"Dollar\" outcomes)\n",
    "inverse_X = {\n",
    "    2: [(\"Dollar\", \"Dollar\")],\n",
    "    1: [(\"Dollar\", \"Pound\"), (\"Pound\", \"Dollar\")],\n",
    "    0: [(\"Pound\", \"Pound\")]\n",
    "}\n",
    "\n",
    "# Step 3: Use the inverse mapping to define X with weights for each count of \"Dollar\" outcomes\n",
    "X = FiniteRV('X', {\n",
    "    2: sum(sample_space[outcome] for outcome in inverse_X[2]),\n",
    "    1: sum(sample_space[outcome] for outcome in inverse_X[1]),\n",
    "    0: sum(sample_space[outcome] for outcome in inverse_X[0])\n",
    "})\n",
    "\n",
    "# Step 4: Calculate and display probabilities directly using P\n",
    "P(Eq(X, 2)), P(Eq(X, 1)), P(Eq(X, 0))"
   ]
  },
  {
   "cell_type": "markdown",
   "metadata": {},
   "source": [
    "Alternatively, we can represent $\\displaystyle X $ as a binomial distribution:"
   ]
  },
  {
   "cell_type": "code",
   "execution_count": 183,
   "metadata": {},
   "outputs": [
    {
     "data": {
      "text/plain": [
       "(0.0900000000000000, 0.420000000000000, 0.490000000000000)"
      ]
     },
     "execution_count": 183,
     "metadata": {},
     "output_type": "execute_result"
    }
   ],
   "source": [
    "from sympy import symbols, Eq\n",
    "from sympy.stats import Binomial, P\n",
    "\n",
    "dollar, pound = symbols(\"\\\\$ £\")\n",
    "\n",
    "# X is actually a binomial distribution wrt getting $.\n",
    "X = Binomial(\"X\", 2, 3 / 10)\n",
    "\n",
    "P(Eq(X, 2)), P(Eq(X, 1)), P(Eq(X, 0))"
   ]
  },
  {
   "cell_type": "markdown",
   "metadata": {},
   "source": [
    "## Example 6.2"
   ]
  }
 ],
 "metadata": {
  "kernelspec": {
   "display_name": "base",
   "language": "python",
   "name": "python3"
  },
  "language_info": {
   "codemirror_mode": {
    "name": "ipython",
    "version": 3
   },
   "file_extension": ".py",
   "mimetype": "text/x-python",
   "name": "python",
   "nbconvert_exporter": "python",
   "pygments_lexer": "ipython3",
   "version": "3.12.7"
  }
 },
 "nbformat": 4,
 "nbformat_minor": 2
}
