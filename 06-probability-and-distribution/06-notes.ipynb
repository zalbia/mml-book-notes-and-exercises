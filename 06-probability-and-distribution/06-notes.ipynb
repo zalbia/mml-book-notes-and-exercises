{
 "cells": [
  {
   "cell_type": "markdown",
   "metadata": {},
   "source": [
    "# Notes on Probability and Distribution\n",
    "\n",
    "## Example 6.1 Biased Coin Flip"
   ]
  },
  {
   "cell_type": "code",
   "execution_count": 184,
   "metadata": {},
   "outputs": [
    {
     "ename": "TypeError",
     "evalue": "unhashable type: 'list'",
     "output_type": "error",
     "traceback": [
      "\u001b[0;31m---------------------------------------------------------------------------\u001b[0m",
      "\u001b[0;31mTypeError\u001b[0m                                 Traceback (most recent call last)",
      "Cell \u001b[0;32mIn[184], line 20\u001b[0m\n\u001b[1;32m     13\u001b[0m inverse_X \u001b[38;5;241m=\u001b[39m {\n\u001b[1;32m     14\u001b[0m     \u001b[38;5;241m2\u001b[39m: [(\u001b[38;5;124m\"\u001b[39m\u001b[38;5;124mDollar\u001b[39m\u001b[38;5;124m\"\u001b[39m, \u001b[38;5;124m\"\u001b[39m\u001b[38;5;124mDollar\u001b[39m\u001b[38;5;124m\"\u001b[39m)],\n\u001b[1;32m     15\u001b[0m     \u001b[38;5;241m1\u001b[39m: [(\u001b[38;5;124m\"\u001b[39m\u001b[38;5;124mDollar\u001b[39m\u001b[38;5;124m\"\u001b[39m, \u001b[38;5;124m\"\u001b[39m\u001b[38;5;124mPound\u001b[39m\u001b[38;5;124m\"\u001b[39m), (\u001b[38;5;124m\"\u001b[39m\u001b[38;5;124mPound\u001b[39m\u001b[38;5;124m\"\u001b[39m, \u001b[38;5;124m\"\u001b[39m\u001b[38;5;124mDollar\u001b[39m\u001b[38;5;124m\"\u001b[39m)],\n\u001b[1;32m     16\u001b[0m     \u001b[38;5;241m0\u001b[39m: [(\u001b[38;5;124m\"\u001b[39m\u001b[38;5;124mPound\u001b[39m\u001b[38;5;124m\"\u001b[39m, \u001b[38;5;124m\"\u001b[39m\u001b[38;5;124mPound\u001b[39m\u001b[38;5;124m\"\u001b[39m)],\n\u001b[1;32m     17\u001b[0m }\n\u001b[1;32m     19\u001b[0m \u001b[38;5;66;03m# Use the inverse mapping to define X with weights for each count of \"Dollar\" outcomes\u001b[39;00m\n\u001b[0;32m---> 20\u001b[0m X \u001b[38;5;241m=\u001b[39m FiniteRV(\u001b[38;5;124m\"\u001b[39m\u001b[38;5;124mX\u001b[39m\u001b[38;5;124m\"\u001b[39m, inverse_X)\n\u001b[1;32m     22\u001b[0m \u001b[38;5;66;03m# Step 4: Calculate and display probabilities directly using P\u001b[39;00m\n\u001b[1;32m     23\u001b[0m P(Eq(X, \u001b[38;5;241m2\u001b[39m)), P(Eq(X, \u001b[38;5;241m1\u001b[39m)), P(Eq(X, \u001b[38;5;241m0\u001b[39m))\n",
      "File \u001b[0;32m/opt/anaconda3/lib/python3.12/site-packages/sympy/stats/frv_types.py:126\u001b[0m, in \u001b[0;36mFiniteRV\u001b[0;34m(name, density, **kwargs)\u001b[0m\n\u001b[1;32m    124\u001b[0m \u001b[38;5;66;03m# have a default of False while `rv` should have a default of True\u001b[39;00m\n\u001b[1;32m    125\u001b[0m kwargs[\u001b[38;5;124m'\u001b[39m\u001b[38;5;124mcheck\u001b[39m\u001b[38;5;124m'\u001b[39m] \u001b[38;5;241m=\u001b[39m kwargs\u001b[38;5;241m.\u001b[39mpop(\u001b[38;5;124m'\u001b[39m\u001b[38;5;124mcheck\u001b[39m\u001b[38;5;124m'\u001b[39m, \u001b[38;5;28;01mFalse\u001b[39;00m)\n\u001b[0;32m--> 126\u001b[0m \u001b[38;5;28;01mreturn\u001b[39;00m rv(name, FiniteDistributionHandmade, density, \u001b[38;5;241m*\u001b[39m\u001b[38;5;241m*\u001b[39mkwargs)\n",
      "File \u001b[0;32m/opt/anaconda3/lib/python3.12/site-packages/sympy/stats/frv_types.py:56\u001b[0m, in \u001b[0;36mrv\u001b[0;34m(name, cls, *args, **kwargs)\u001b[0m\n\u001b[1;32m     55\u001b[0m \u001b[38;5;28;01mdef\u001b[39;00m \u001b[38;5;21mrv\u001b[39m(name, \u001b[38;5;28mcls\u001b[39m, \u001b[38;5;241m*\u001b[39margs, \u001b[38;5;241m*\u001b[39m\u001b[38;5;241m*\u001b[39mkwargs):\n\u001b[0;32m---> 56\u001b[0m     args \u001b[38;5;241m=\u001b[39m \u001b[38;5;28mlist\u001b[39m(\u001b[38;5;28mmap\u001b[39m(sympify, args))\n\u001b[1;32m     57\u001b[0m     dist \u001b[38;5;241m=\u001b[39m \u001b[38;5;28mcls\u001b[39m(\u001b[38;5;241m*\u001b[39margs)\n\u001b[1;32m     58\u001b[0m     \u001b[38;5;28;01mif\u001b[39;00m kwargs\u001b[38;5;241m.\u001b[39mpop(\u001b[38;5;124m'\u001b[39m\u001b[38;5;124mcheck\u001b[39m\u001b[38;5;124m'\u001b[39m, \u001b[38;5;28;01mTrue\u001b[39;00m):\n",
      "File \u001b[0;32m/opt/anaconda3/lib/python3.12/site-packages/sympy/core/sympify.py:396\u001b[0m, in \u001b[0;36msympify\u001b[0;34m(a, locals, convert_xor, strict, rational, evaluate)\u001b[0m\n\u001b[1;32m    394\u001b[0m         conv \u001b[38;5;241m=\u001b[39m _sympy_converter\u001b[38;5;241m.\u001b[39mget(superclass)\n\u001b[1;32m    395\u001b[0m     \u001b[38;5;28;01mif\u001b[39;00m conv \u001b[38;5;129;01mis\u001b[39;00m \u001b[38;5;129;01mnot\u001b[39;00m \u001b[38;5;28;01mNone\u001b[39;00m:\n\u001b[0;32m--> 396\u001b[0m         \u001b[38;5;28;01mreturn\u001b[39;00m conv(a)\n\u001b[1;32m    398\u001b[0m \u001b[38;5;28;01mif\u001b[39;00m \u001b[38;5;28mcls\u001b[39m \u001b[38;5;129;01mis\u001b[39;00m \u001b[38;5;28mtype\u001b[39m(\u001b[38;5;28;01mNone\u001b[39;00m):\n\u001b[1;32m    399\u001b[0m     \u001b[38;5;28;01mif\u001b[39;00m strict:\n",
      "File \u001b[0;32m/opt/anaconda3/lib/python3.12/site-packages/sympy/core/containers.py:332\u001b[0m, in \u001b[0;36m<lambda>\u001b[0;34m(d)\u001b[0m\n\u001b[1;32m    329\u001b[0m     \u001b[38;5;21m__hash__\u001b[39m : Callable[[Basic], Any] \u001b[38;5;241m=\u001b[39m Basic\u001b[38;5;241m.\u001b[39m\u001b[38;5;21m__hash__\u001b[39m\n\u001b[1;32m    331\u001b[0m \u001b[38;5;66;03m# this handles dict, defaultdict, OrderedDict\u001b[39;00m\n\u001b[0;32m--> 332\u001b[0m _sympy_converter[\u001b[38;5;28mdict\u001b[39m] \u001b[38;5;241m=\u001b[39m \u001b[38;5;28;01mlambda\u001b[39;00m d: Dict(\u001b[38;5;241m*\u001b[39md\u001b[38;5;241m.\u001b[39mitems())\n\u001b[1;32m    334\u001b[0m \u001b[38;5;28;01mclass\u001b[39;00m \u001b[38;5;21;01mOrderedSet\u001b[39;00m(MutableSet):\n\u001b[1;32m    335\u001b[0m     \u001b[38;5;28;01mdef\u001b[39;00m \u001b[38;5;21m__init__\u001b[39m(\u001b[38;5;28mself\u001b[39m, iterable\u001b[38;5;241m=\u001b[39m\u001b[38;5;28;01mNone\u001b[39;00m):\n",
      "File \u001b[0;32m/opt/anaconda3/lib/python3.12/site-packages/sympy/core/containers.py:262\u001b[0m, in \u001b[0;36mDict.__new__\u001b[0;34m(cls, *args)\u001b[0m\n\u001b[1;32m    260\u001b[0m \u001b[38;5;28;01melse\u001b[39;00m:\n\u001b[1;32m    261\u001b[0m     \u001b[38;5;28;01mraise\u001b[39;00m \u001b[38;5;167;01mTypeError\u001b[39;00m(\u001b[38;5;124m'\u001b[39m\u001b[38;5;124mPass Dict args as Dict((k1, v1), ...) or Dict(\u001b[39m\u001b[38;5;124m{\u001b[39m\u001b[38;5;124mk1: v1, ...})\u001b[39m\u001b[38;5;124m'\u001b[39m)\n\u001b[0;32m--> 262\u001b[0m elements \u001b[38;5;241m=\u001b[39m \u001b[38;5;28mfrozenset\u001b[39m(items)\n\u001b[1;32m    263\u001b[0m obj \u001b[38;5;241m=\u001b[39m Basic\u001b[38;5;241m.\u001b[39m\u001b[38;5;21m__new__\u001b[39m(\u001b[38;5;28mcls\u001b[39m, \u001b[38;5;241m*\u001b[39mordered(items))\n\u001b[1;32m    264\u001b[0m obj\u001b[38;5;241m.\u001b[39melements \u001b[38;5;241m=\u001b[39m elements\n",
      "File \u001b[0;32m/opt/anaconda3/lib/python3.12/site-packages/sympy/core/containers.py:109\u001b[0m, in \u001b[0;36mTuple.__hash__\u001b[0;34m(self)\u001b[0m\n\u001b[1;32m    108\u001b[0m \u001b[38;5;28;01mdef\u001b[39;00m \u001b[38;5;21m__hash__\u001b[39m(\u001b[38;5;28mself\u001b[39m):\n\u001b[0;32m--> 109\u001b[0m     \u001b[38;5;28;01mreturn\u001b[39;00m \u001b[38;5;28mhash\u001b[39m(\u001b[38;5;28mself\u001b[39m\u001b[38;5;241m.\u001b[39margs)\n",
      "\u001b[0;31mTypeError\u001b[0m: unhashable type: 'list'"
     ]
    }
   ],
   "source": [
    "from sympy import Eq\n",
    "from sympy.stats import FiniteRV, P\n",
    "\n",
    "# Define the sample space with each outcome's probability\n",
    "sample_space = {\n",
    "    (\"Dollar\", \"Dollar\"): 0.3 * 0.3,\n",
    "    (\"Dollar\", \"Pound\"): 0.3 * 0.7,\n",
    "    (\"Pound\", \"Dollar\"): 0.7 * 0.3,\n",
    "    (\"Pound\", \"Pound\"): 0.7 * 0.7,\n",
    "}\n",
    "\n",
    "# Define the inverse mapping for X (counting \"Dollar\" outcomes)\n",
    "inverse_X = {\n",
    "    2: [(\"Dollar\", \"Dollar\")],\n",
    "    1: [(\"Dollar\", \"Pound\"), (\"Pound\", \"Dollar\")],\n",
    "    0: [(\"Pound\", \"Pound\")],\n",
    "}\n",
    "\n",
    "# Use the inverse mapping to define X with weights for each count of \"Dollar\" outcomes\n",
    "X = FiniteRV(\n",
    "    \"X\",\n",
    "    {\n",
    "        2: sum(sample_space[outcome] for outcome in inverse_X[2]),\n",
    "        1: sum(sample_space[outcome] for outcome in inverse_X[1]),\n",
    "        0: sum(sample_space[outcome] for outcome in inverse_X[0]),\n",
    "    },\n",
    ")\n",
    "\n",
    "# Step 4: Calculate and display probabilities directly using P\n",
    "P(Eq(X, 2)), P(Eq(X, 1)), P(Eq(X, 0))"
   ]
  },
  {
   "cell_type": "markdown",
   "metadata": {},
   "source": [
    "Alternatively, we can represent $\\displaystyle X $ as a binomial distribution:"
   ]
  },
  {
   "cell_type": "code",
   "execution_count": 183,
   "metadata": {},
   "outputs": [
    {
     "data": {
      "text/plain": [
       "(0.0900000000000000, 0.420000000000000, 0.490000000000000)"
      ]
     },
     "execution_count": 183,
     "metadata": {},
     "output_type": "execute_result"
    }
   ],
   "source": [
    "from sympy import symbols, Eq\n",
    "from sympy.stats import Binomial, P\n",
    "\n",
    "dollar, pound = symbols(\"\\\\$ £\")\n",
    "\n",
    "# X is actually a binomial distribution wrt getting $.\n",
    "X = Binomial(\"X\", 2, 3 / 10)\n",
    "\n",
    "P(Eq(X, 2)), P(Eq(X, 1)), P(Eq(X, 0))"
   ]
  },
  {
   "cell_type": "code",
   "execution_count": null,
   "metadata": {},
   "outputs": [],
   "source": []
  }
 ],
 "metadata": {
  "kernelspec": {
   "display_name": "base",
   "language": "python",
   "name": "python3"
  },
  "language_info": {
   "codemirror_mode": {
    "name": "ipython",
    "version": 3
   },
   "file_extension": ".py",
   "mimetype": "text/x-python",
   "name": "python",
   "nbconvert_exporter": "python",
   "pygments_lexer": "ipython3",
   "version": "3.12.7"
  }
 },
 "nbformat": 4,
 "nbformat_minor": 2
}
