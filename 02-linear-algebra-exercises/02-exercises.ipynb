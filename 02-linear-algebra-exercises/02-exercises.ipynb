{
 "cells": [
  {
   "cell_type": "markdown",
   "metadata": {},
   "source": [
    "# Linear Algebra Exercises"
   ]
  },
  {
   "cell_type": "code",
   "execution_count": 53,
   "metadata": {},
   "outputs": [
    {
     "data": {
      "text/plain": [
       "'1.13.2'"
      ]
     },
     "execution_count": 53,
     "metadata": {},
     "output_type": "execute_result"
    }
   ],
   "source": [
    "import sympy\n",
    "\n",
    "sympy.__version__"
   ]
  },
  {
   "cell_type": "markdown",
   "metadata": {},
   "source": [
    "1. We consider $\\displaystyle (\\mathbb{R} \\backslash \\{-1\\} ,\\star )$, where\n",
    "\\begin{equation*}\n",
    "a\\star b\\coloneq ab+a+b:a,b\\in \\mathbb{R} \\backslash \\{-1\\}\n",
    "\\end{equation*}"
   ]
  },
  {
   "cell_type": "code",
   "execution_count": 54,
   "metadata": {},
   "outputs": [],
   "source": [
    "a, b = sympy.symbols(\"a b\", real=True)\n",
    "star = sympy.Lambda((a, b), a * b + a + b)"
   ]
  },
  {
   "cell_type": "markdown",
   "metadata": {},
   "source": [
    "Check if $\\displaystyle (\\star )$ is closed under $\\displaystyle (\\mathbb{R} \\backslash \\{-1\\})$:\n",
    "\n",
    "\\begin{equation*}\n",
    "\\begin{aligned}\n",
    "ab+a+b\\  & =\\ -1\\\\\n",
    "ab+b\\  & =\\ -1-a\\rightarrow -( a+1)\\\\\n",
    "b( a+1) & =-( a+1)\\\\\n",
    "b( a+1) +( a+1) & =0\\\\\n",
    "( b+1)( a+1) & =0\n",
    "\\end{aligned}\n",
    "\\end{equation*}\n",
    "\n",
    "Either $\\displaystyle a$, $\\displaystyle b$ would have to be $\\displaystyle -1$ for $\\displaystyle a\\star b$ to be $\\displaystyle -1$, but since $\\displaystyle a,b\\neq-1$, closure holds, and the equation has no solution. Verification below:"
   ]
  },
  {
   "cell_type": "code",
   "execution_count": 55,
   "metadata": {},
   "outputs": [
    {
     "data": {
      "text/plain": [
       "[]"
      ]
     },
     "execution_count": 55,
     "metadata": {},
     "output_type": "execute_result"
    }
   ],
   "source": [
    "sympy.solve([star(a, b) == -1, a != -1, b != -1], [a, b])"
   ]
  },
  {
   "cell_type": "markdown",
   "metadata": {},
   "source": [
    "#### Associativity:\n",
    "We need to prove that $\\displaystyle ( a\\star b) \\star c=a\\star ( b\\star c)$.\n",
    "\\begin{equation*}\n",
    "\\begin{aligned}\n",
    "( a\\star b) \\star c & \\overset{?}{=} a\\star ( b\\star c)\\\\\n",
    "( ab+a+b) \\star c & \\overset{?}{=} a\\star ( bc+b+c)\\\\\n",
    "( ab+a+b)( c) +( ab+a+b) +c & \\overset{?}{=} a( bc+b+c) +a+( bc+b+c)\\\\\n",
    "abc+ac+bc+ab+a+b+c & \\overset{\\checkmark}{=} abc+ab+ac+a+bc+b+c\n",
    "\\end{aligned}\n",
    "\\end{equation*}\n",
    "\n",
    "Verification:"
   ]
  },
  {
   "cell_type": "code",
   "execution_count": 56,
   "metadata": {},
   "outputs": [
    {
     "data": {
      "text/latex": [
       "$\\displaystyle a b c + a b + a c + a + b c + b + c$"
      ],
      "text/plain": [
       "a*b*c + a*b + a*c + a + b*c + b + c"
      ]
     },
     "metadata": {},
     "output_type": "display_data"
    },
    {
     "data": {
      "text/latex": [
       "$\\displaystyle a b c + a b + a c + a + b c + b + c$"
      ],
      "text/plain": [
       "a*b*c + a*b + a*c + a + b*c + b + c"
      ]
     },
     "metadata": {},
     "output_type": "display_data"
    },
    {
     "data": {
      "text/plain": [
       "True"
      ]
     },
     "execution_count": 56,
     "metadata": {},
     "output_type": "execute_result"
    }
   ],
   "source": [
    "c = sympy.symbols(\"c\", real=True)\n",
    "left = sympy.expand(star(star(a, b), c))\n",
    "right = sympy.expand(star(a, star(b, c)))\n",
    "display(left)\n",
    "display(right)\n",
    "left == right"
   ]
  },
  {
   "cell_type": "markdown",
   "metadata": {},
   "source": [
    "#### Neutral element:\n",
    "We need to solve $\\displaystyle a\\star e=a$.\n",
    "\\begin{equation*}\n",
    "\\begin{aligned}\n",
    "a\\star e & =a\\\\\n",
    "ae+a+e & =a\\\\\n",
    "ae+e & =0\\\\\n",
    "e( a+1) & =0\\\\\n",
    "e=0, & \\ a=-1\n",
    "\\end{aligned}\n",
    "\\end{equation*}\n",
    "But since $\\displaystyle a\\notin \\mathbb{R} \\backslash \\{-1\\}$, it can't be the neutral element.\n",
    "The neutral element $\\displaystyle e$ for $\\displaystyle (\\mathbb{R} \\backslash \\{-1\\} ,\\star )$ is $\\displaystyle 0$.\n",
    "\\begin{gather*}\n",
    "1\\star 0\\\\\n",
    "( 1\\times 0) +1+0\\\\\n",
    "0+1+0\\\\\n",
    "1\n",
    "\\end{gather*}"
   ]
  },
  {
   "cell_type": "code",
   "execution_count": 57,
   "metadata": {},
   "outputs": [
    {
     "data": {
      "text/latex": [
       "$\\displaystyle a e + a + e = a$"
      ],
      "text/plain": [
       "Eq(a*e + a + e, a)"
      ]
     },
     "metadata": {},
     "output_type": "display_data"
    },
    {
     "data": {
      "text/plain": [
       "{e: 0}"
      ]
     },
     "execution_count": 57,
     "metadata": {},
     "output_type": "execute_result"
    }
   ],
   "source": [
    "e = sympy.symbols(\"e\", real=True)\n",
    "equation = sympy.Eq(star(a, e), a)\n",
    "display(equation)\n",
    "sympy.solve([equation, a != -1, e != -1], e)"
   ]
  },
  {
   "cell_type": "markdown",
   "metadata": {},
   "source": [
    "#### Commutativity:\n",
    "We need to prove $\\displaystyle a\\star b=b\\star a$:\n",
    "\\begin{equation*}\n",
    "\\begin{aligned}\n",
    "ab+a+b & \\overset{?}{=} ba+b+a\\\\\n",
    "ab+a+b & \\overset{\\checkmark}{=} ab+a+b\n",
    "\\end{aligned}\n",
    "\\end{equation*}"
   ]
  },
  {
   "cell_type": "code",
   "execution_count": 58,
   "metadata": {},
   "outputs": [
    {
     "data": {
      "text/plain": [
       "True"
      ]
     },
     "execution_count": 58,
     "metadata": {},
     "output_type": "execute_result"
    }
   ],
   "source": [
    "star(a, b) == star(b, a)"
   ]
  },
  {
   "cell_type": "markdown",
   "metadata": {},
   "source": [
    "#### Inverse element:\n",
    "We need to solve for $\\displaystyle a^{-1}$.\n",
    "\\begin{equation*}\n",
    "\\begin{aligned}\n",
    "a\\star a^{-1} & =e\\\\\n",
    "a+a+a^{-1} & =0\\\\\n",
    "a+a^{-1} & =-a\\\\\n",
    "\\frac{a^{-1}\\cancel{( a+1)}}{\\cancel{a+1}} & =-\\frac{a}{a+1}\\\\\n",
    "a^{-1} & =-\\frac{a}{a+1}\n",
    "\\end{aligned}\n",
    "\\end{equation*}"
   ]
  },
  {
   "cell_type": "code",
   "execution_count": 59,
   "metadata": {},
   "outputs": [
    {
     "data": {
      "text/latex": [
       "$\\displaystyle a a^{-1} + a + a^{-1} = 0$"
      ],
      "text/plain": [
       "Eq(a*a^-1 + a + a^-1, 0)"
      ]
     },
     "metadata": {},
     "output_type": "display_data"
    },
    {
     "data": {
      "text/latex": [
       "$\\displaystyle a^{-1} = - \\frac{a}{a + 1}$"
      ],
      "text/plain": [
       "Eq(a^-1, -a/(a + 1))"
      ]
     },
     "metadata": {},
     "output_type": "display_data"
    }
   ],
   "source": [
    "aInverse = sympy.symbols(\"a^-1\", real=True)\n",
    "equation = sympy.Eq(star(a, aInverse), 0)\n",
    "display(equation)\n",
    "solutions = sympy.solve(equation, aInverse)\n",
    "for s in solutions:\n",
    "    display(sympy.Eq(aInverse, s))"
   ]
  },
  {
   "cell_type": "markdown",
   "metadata": {},
   "source": [
    "With all properties proven, $\\displaystyle (\\mathbb{R} \\backslash \\{-1\\} ,\\star )$ forms an Abelian group.\n",
    "\t\n",
    "b. Solve $\\displaystyle 3\\star x\\star x=15$.\n",
    "\n",
    "\\begin{equation*}\n",
    "\\begin{aligned}\n",
    "3\\star x\\star x & =15\\\\\n",
    "( 3x+3+x) \\star x & =15\\\\\n",
    "3x^{2} +3x+x^{2} +3x+3+x+x & =15\\\\\n",
    "4x^{2} +8x+3 & =15\\\\\n",
    "4x^{2} +8x & =12\\\\\n",
    "x^{2} +2x & =3\\\\\n",
    "x^{2} +2x-3 & =0\\\\\n",
    "( x+3)( x-1) & =0\n",
    "\\end{aligned}\n",
    "\\end{equation*}\n",
    "Therefore, $\\displaystyle x=-3,\\ x=1.$ Verifying into the original equation:\n",
    "\\begin{gather*}\n",
    "\\begin{aligned}\n",
    "3\\star -3\\star -3 & =3( -3) +3+( -3) \\star -3\\\\\n",
    " & =-9\\star -3\\\\\n",
    " & =-9( -3) +( -9) +( -3)\\\\\n",
    " & =27-9-3\\\\\n",
    " & =27-12\\\\\n",
    "3\\star -3\\star -3 & =15\n",
    "\\end{aligned}\\\\\n",
    "\\\\\n",
    "\\begin{aligned}\n",
    "3\\star 1\\star 1 & =1\\star ( 1\\star 3)\\\\\n",
    " & =1\\star (( 1\\times 3) +1+3\\ )\\\\\n",
    " & =1\\star 7\\\\\n",
    " & =( 1\\times 7) +1+7\\\\\n",
    " & =7+8\\\\\n",
    "3\\star 1\\star 1 & =15\n",
    "\\end{aligned}\n",
    "\\end{gather*}"
   ]
  },
  {
   "cell_type": "code",
   "execution_count": 60,
   "metadata": {},
   "outputs": [
    {
     "data": {
      "text/latex": [
       "$\\displaystyle 4 x^{2} + 8 x + 3 = 15$"
      ],
      "text/plain": [
       "Eq(4*x**2 + 8*x + 3, 15)"
      ]
     },
     "metadata": {},
     "output_type": "display_data"
    },
    {
     "data": {
      "text/plain": [
       "[-3, 1]"
      ]
     },
     "execution_count": 60,
     "metadata": {},
     "output_type": "execute_result"
    }
   ],
   "source": [
    "x = sympy.symbols('x', real=True)\n",
    "equation = sympy.Eq(star(3, star(x, x)), 15)\n",
    "display(equation)\n",
    "sympy.solve(equation, x)"
   ]
  },
  {
   "cell_type": "markdown",
   "metadata": {},
   "source": [
    "2. Let $\\displaystyle n$ be in $\\displaystyle \\mathbb{N} \\backslash \\{0\\}$. Let $\\displaystyle k,\\ x$ be in $\\displaystyle \\mathbb{Z}$. We define the congruence class $\\displaystyle \\overline{k}$ of the integer $\\displaystyle k$ as the set\n",
    "\\begin{equation*}\n",
    "\\begin{aligned}\n",
    "\\overline{k} & =\\{x\\in \\mathbb{Z} \\mid x-k=0\\ (\\bmod n)\\}\\\\\n",
    " & =\\{x\\in \\mathbb{Z} \\mid \\exists a\\in \\mathbb{Z} :\\ ( x-k=n\\cdot a)\\} .\n",
    "\\end{aligned}\n",
    "\\end{equation*}\n",
    "We now define $\\displaystyle \\mathbb{Z} /n\\mathbb{Z}$ (sometimes written $\\displaystyle \\mathbb{Z}_{n}$ as the set of all congruence classes modulo $\\displaystyle n$. Euclidean division implies that this set is a finite set containing $\\displaystyle n$ elements:\n",
    "\\begin{equation*}\n",
    "\\mathbb{Z}_{n} =\\{\\overline{0} ,\\overline{1} ,\\dotsc ,\\overline{n-1}\\}\n",
    "\\end{equation*}\n",
    "For all $\\displaystyle \\overline{a} ,\\overline{b} \\in \\mathbb{Z}_{n}$, we define\n",
    "\\begin{equation*}\n",
    "\\overline{a} \\oplus \\overline{b} \\coloneq \\overline{a+b}\n",
    "\\end{equation*}\n",
    "  a. Show that $\\displaystyle (\\mathbb{Z}_{n} ,\\oplus )$ is a group. Is it Abelian?"
   ]
  },
  {
   "cell_type": "markdown",
   "metadata": {},
   "source": [
    "2.3 Consider the set $\\displaystyle \\mathcal{G}$ of $\\displaystyle 3\\times 3$ matrices defined as follows:\n",
    "\\begin{equation*}\n",
    "\\mathcal{G} =\\left\\{\\begin{bmatrix}\n",
    "1 & x & z\\\\\n",
    "0 & 1 & y\\\\\n",
    "0 & 0 & 1\n",
    "\\end{bmatrix} \\in \\mathbb{R}^{3\\times 3}\\middle| x,y,z\\in \\mathbb{R}\\right\\}\n",
    "\\end{equation*}\n",
    "\n",
    "We define $\\displaystyle \\cdot $ as the standard matrix multiplication.\n",
    "Is $\\displaystyle (\\mathcal{G} ,\\cdot )$ a group? If yes, is it Abelian? Justify your answer.\n",
    "\n",
    "Closure: We multiply two matrices in $\\displaystyle \\mathcal{G}$:\n",
    "\\begin{gather*}\n",
    "AB=\\begin{bmatrix}\n",
    "1 & a_{1} & c_{1}\\\\\n",
    "0 & 1 & b_{1}\\\\\n",
    "0 & 0 & 1\n",
    "\\end{bmatrix}\\begin{bmatrix}\n",
    "1 & a_{2} & c_{2}\\\\\n",
    "0 & 1 & b_{2}\\\\\n",
    "0 & 0 & 1\n",
    "\\end{bmatrix}\\\\\n",
    "\\\\\n",
    "AB=\\begin{bmatrix}\n",
    "1 & a_{1} +a_{2} & a_{1} b_{2} +c_{1} +c_{2}\\\\\n",
    "0 & 1 & b_{1} +b_{2}\\\\\n",
    "0 & 0 & 1\n",
    "\\end{bmatrix}\n",
    "\\end{gather*}\n",
    "$\\displaystyle a_{1} +a_{2} ,\\ a_{1} b_{2} +c_{1} +c_{2} ,$ and $\\displaystyle b_{1} +b_{2}$ are closed under $\\displaystyle \\mathbb{R}$ as addition and multiplication are both closed under $\\displaystyle \\mathbb{R}$, and $\\displaystyle AB\\in \\mathcal{G}$. It follows that matrix multiplication is also closed under $\\displaystyle \\mathcal{G}$.\n",
    "\n",
    "Associativity: Multiplication and addition are associative, it follows that $\\displaystyle (\\mathcal{G} ,\\cdot )$ is associative.\n",
    "\n",
    "Neutral element: For $\\displaystyle \\boldsymbol{AB} =\\boldsymbol{A}$, $\\displaystyle \\boldsymbol{B}$ simply needs to be $\\displaystyle \\boldsymbol{I}_{3}$. We can easily set $\\displaystyle x,y,z$ to $\\displaystyle 0$.\n",
    "\n",
    "Inverse element: The inverse element is:\n",
    "\\begin{equation*}\n",
    "\\begin{bmatrix}\n",
    "1 & -x & xy-z\\\\\n",
    "0 & 1 & -y\\\\\n",
    "0 & 0 & 1\n",
    "\\end{bmatrix} \\in \\mathcal{G} .\n",
    "\\end{equation*}\n",
    "\tCommutativity: Is $\\displaystyle AB=BA$?\n",
    "\\begin{gather*}\n",
    "AB=\\begin{bmatrix}\n",
    "1 & a_{1} +a_{2} & a_{1} b_{2} +c_{1} +c_{2}\\\\\n",
    "0 & 1 & b_{1} +b_{2}\\\\\n",
    "0 & 0 & 1\n",
    "\\end{bmatrix} ,\\\\\n",
    "\\\\\n",
    "BA=\\begin{bmatrix}\n",
    "1 & a_{2} & c_{2}\\\\\n",
    "0 & 1 & b_{2}\\\\\n",
    "0 & 0 & 1\n",
    "\\end{bmatrix}\\begin{bmatrix}\n",
    "1 & a_{1} & c_{1}\\\\\n",
    "0 & 1 & b_{1}\\\\\n",
    "0 & 0 & 1\n",
    "\\end{bmatrix}\\\\\n",
    "\\\\\n",
    "BA=\\begin{bmatrix}\n",
    "1 & a_{1} +a_{2} & a_{2} b_{1} +c_{1} +c_{2}\\\\\n",
    "0 & 1 & b_{1} +b_{2}\\\\\n",
    "0 & 0 & 1\n",
    "\\end{bmatrix}\\\\\n",
    "\\\\\n",
    "a_{1} b_{2} +c_{1} +c_{2}\\neq a_{2} b_{1} +c_{1} +c_{2}\\\\\n",
    "\\\\\n",
    "AB \\neq BA\n",
    "\\end{gather*}\n",
    "Commutativity does not hold. Therefore while $\\displaystyle (\\mathcal{G} ,\\cdot )$ forms a group, it's not Abelian."
   ]
  },
  {
   "cell_type": "code",
   "execution_count": 61,
   "metadata": {},
   "outputs": [
    {
     "data": {
      "text/latex": [
       "$\\displaystyle \\left[\\begin{matrix}1 & - x & x y - z\\\\0 & 1 & - y\\\\0 & 0 & 1\\end{matrix}\\right]$"
      ],
      "text/plain": [
       "Matrix([\n",
       "[1, -x, x*y - z],\n",
       "[0,  1,      -y],\n",
       "[0,  0,       1]])"
      ]
     },
     "metadata": {},
     "output_type": "display_data"
    }
   ],
   "source": [
    "x, y, z = sympy.symbols(\"x y z\", real=True)\n",
    "G = sympy.Matrix([[1, x, z], [0, 1, y], [0, 0, 1]])\n",
    "display(G**-1)"
   ]
  }
 ],
 "metadata": {
  "kernelspec": {
   "display_name": "base",
   "language": "python",
   "name": "python3"
  },
  "language_info": {
   "codemirror_mode": {
    "name": "ipython",
    "version": 3
   },
   "file_extension": ".py",
   "mimetype": "text/x-python",
   "name": "python",
   "nbconvert_exporter": "python",
   "pygments_lexer": "ipython3",
   "version": "3.12.7"
  }
 },
 "nbformat": 4,
 "nbformat_minor": 2
}
